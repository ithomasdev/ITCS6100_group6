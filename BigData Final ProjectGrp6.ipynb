{
 "cells": [
  {
   "cell_type": "code",
   "execution_count": 44,
   "id": "283c45ce",
   "metadata": {},
   "outputs": [],
   "source": [
    "import numpy as np \n",
    "import pandas as pd\n",
    "import matplotlib.pyplot as plt\n",
    "import os"
   ]
  },
  {
   "cell_type": "markdown",
   "id": "93d26e9f",
   "metadata": {},
   "source": [
    "# Importing Dataset"
   ]
  },
  {
   "cell_type": "code",
   "execution_count": 46,
   "id": "c9dd3f4b",
   "metadata": {},
   "outputs": [],
   "source": [
    "df=pd.read_csv(\"./data/athletes.csv\")"
   ]
  },
  {
   "cell_type": "code",
   "execution_count": 47,
   "id": "f002e6e8",
   "metadata": {
    "scrolled": true
   },
   "outputs": [
    {
     "name": "stdout",
     "output_type": "stream",
     "text": [
      "<class 'pandas.core.frame.DataFrame'>\n",
      "RangeIndex: 423006 entries, 0 to 423005\n",
      "Data columns (total 27 columns):\n",
      " #   Column      Non-Null Count   Dtype  \n",
      "---  ------      --------------   -----  \n",
      " 0   athlete_id  423003 non-null  float64\n",
      " 1   name        331110 non-null  object \n",
      " 2   region      251262 non-null  object \n",
      " 3   team        155160 non-null  object \n",
      " 4   affiliate   241916 non-null  object \n",
      " 5   gender      331110 non-null  object \n",
      " 6   age         331110 non-null  float64\n",
      " 7   height      159869 non-null  float64\n",
      " 8   weight      229890 non-null  float64\n",
      " 9   fran        55426 non-null   float64\n",
      " 10  helen       30279 non-null   float64\n",
      " 11  grace       40745 non-null   float64\n",
      " 12  filthy50    19359 non-null   float64\n",
      " 13  fgonebad    29738 non-null   float64\n",
      " 14  run400      22246 non-null   float64\n",
      " 15  run5k       36097 non-null   float64\n",
      " 16  candj       104435 non-null  float64\n",
      " 17  snatch      97280 non-null   float64\n",
      " 18  deadlift    115323 non-null  float64\n",
      " 19  backsq      110517 non-null  float64\n",
      " 20  pullups     50608 non-null   float64\n",
      " 21  eat         93932 non-null   object \n",
      " 22  train       105831 non-null  object \n",
      " 23  background  98945 non-null   object \n",
      " 24  experience  104936 non-null  object \n",
      " 25  schedule    97875 non-null   object \n",
      " 26  howlong     109206 non-null  object \n",
      "dtypes: float64(16), object(11)\n",
      "memory usage: 87.1+ MB\n"
     ]
    }
   ],
   "source": [
    "df.info()"
   ]
  },
  {
   "cell_type": "markdown",
   "id": "f0dc7ed7-d566-4865-aede-14f59709a884",
   "metadata": {},
   "source": [
    "Data Preparation"
   ]
  },
  {
   "cell_type": "code",
   "execution_count": 48,
   "id": "7d8481ff",
   "metadata": {},
   "outputs": [
    {
     "data": {
      "text/plain": [
       "Index(['athlete_id', 'name', 'region', 'team', 'affiliate', 'gender', 'age',\n",
       "       'height', 'weight', 'fran', 'helen', 'grace', 'filthy50', 'fgonebad',\n",
       "       'run400', 'run5k', 'candj', 'snatch', 'deadlift', 'backsq', 'pullups',\n",
       "       'eat', 'train', 'background', 'experience', 'schedule', 'howlong'],\n",
       "      dtype='object')"
      ]
     },
     "execution_count": 48,
     "metadata": {},
     "output_type": "execute_result"
    }
   ],
   "source": [
    "df.columns"
   ]
  },
  {
   "cell_type": "code",
   "execution_count": 49,
   "id": "68cbbba3",
   "metadata": {},
   "outputs": [
    {
     "data": {
      "text/html": [
       "<div>\n",
       "<style scoped>\n",
       "    .dataframe tbody tr th:only-of-type {\n",
       "        vertical-align: middle;\n",
       "    }\n",
       "\n",
       "    .dataframe tbody tr th {\n",
       "        vertical-align: top;\n",
       "    }\n",
       "\n",
       "    .dataframe thead th {\n",
       "        text-align: right;\n",
       "    }\n",
       "</style>\n",
       "<table border=\"1\" class=\"dataframe\">\n",
       "  <thead>\n",
       "    <tr style=\"text-align: right;\">\n",
       "      <th></th>\n",
       "      <th>athlete_id</th>\n",
       "      <th>age</th>\n",
       "      <th>height</th>\n",
       "      <th>weight</th>\n",
       "      <th>fran</th>\n",
       "      <th>helen</th>\n",
       "      <th>grace</th>\n",
       "      <th>filthy50</th>\n",
       "      <th>fgonebad</th>\n",
       "      <th>run400</th>\n",
       "      <th>run5k</th>\n",
       "      <th>candj</th>\n",
       "      <th>snatch</th>\n",
       "      <th>deadlift</th>\n",
       "      <th>backsq</th>\n",
       "      <th>pullups</th>\n",
       "    </tr>\n",
       "  </thead>\n",
       "  <tbody>\n",
       "    <tr>\n",
       "      <th>count</th>\n",
       "      <td>423003.000000</td>\n",
       "      <td>331110.000000</td>\n",
       "      <td>1.598690e+05</td>\n",
       "      <td>229890.000000</td>\n",
       "      <td>5.542600e+04</td>\n",
       "      <td>3.027900e+04</td>\n",
       "      <td>4.074500e+04</td>\n",
       "      <td>1.935900e+04</td>\n",
       "      <td>2.973800e+04</td>\n",
       "      <td>2.224600e+04</td>\n",
       "      <td>3.609700e+04</td>\n",
       "      <td>1.044350e+05</td>\n",
       "      <td>9.728000e+04</td>\n",
       "      <td>1.153230e+05</td>\n",
       "      <td>1.105170e+05</td>\n",
       "      <td>5.060800e+04</td>\n",
       "    </tr>\n",
       "    <tr>\n",
       "      <th>mean</th>\n",
       "      <td>292748.166538</td>\n",
       "      <td>32.516750</td>\n",
       "      <td>1.206217e+02</td>\n",
       "      <td>170.896137</td>\n",
       "      <td>9.886691e+02</td>\n",
       "      <td>1.207950e+03</td>\n",
       "      <td>5.766025e+02</td>\n",
       "      <td>2.127863e+03</td>\n",
       "      <td>1.472252e+03</td>\n",
       "      <td>5.241279e+02</td>\n",
       "      <td>3.411464e+03</td>\n",
       "      <td>2.709107e+02</td>\n",
       "      <td>2.424957e+02</td>\n",
       "      <td>6.970503e+02</td>\n",
       "      <td>5.852109e+02</td>\n",
       "      <td>4.269613e+04</td>\n",
       "    </tr>\n",
       "    <tr>\n",
       "      <th>std</th>\n",
       "      <td>184969.660327</td>\n",
       "      <td>7.730671</td>\n",
       "      <td>2.097995e+04</td>\n",
       "      <td>58.379799</td>\n",
       "      <td>7.200430e+04</td>\n",
       "      <td>6.824091e+04</td>\n",
       "      <td>4.891145e+04</td>\n",
       "      <td>6.055021e+04</td>\n",
       "      <td>9.762688e+04</td>\n",
       "      <td>5.628804e+04</td>\n",
       "      <td>1.251980e+05</td>\n",
       "      <td>2.596882e+04</td>\n",
       "      <td>2.708942e+04</td>\n",
       "      <td>5.523235e+04</td>\n",
       "      <td>5.052976e+04</td>\n",
       "      <td>9.546078e+06</td>\n",
       "    </tr>\n",
       "    <tr>\n",
       "      <th>min</th>\n",
       "      <td>82.000000</td>\n",
       "      <td>13.000000</td>\n",
       "      <td>0.000000e+00</td>\n",
       "      <td>1.000000</td>\n",
       "      <td>1.000000e+00</td>\n",
       "      <td>1.000000e+00</td>\n",
       "      <td>-6.000000e+01</td>\n",
       "      <td>1.000000e+00</td>\n",
       "      <td>0.000000e+00</td>\n",
       "      <td>1.000000e+00</td>\n",
       "      <td>1.000000e+00</td>\n",
       "      <td>-4.500000e+01</td>\n",
       "      <td>0.000000e+00</td>\n",
       "      <td>-5.000000e+02</td>\n",
       "      <td>-7.000000e+00</td>\n",
       "      <td>-6.000000e+00</td>\n",
       "    </tr>\n",
       "    <tr>\n",
       "      <th>25%</th>\n",
       "      <td>135091.500000</td>\n",
       "      <td>27.000000</td>\n",
       "      <td>6.600000e+01</td>\n",
       "      <td>145.000000</td>\n",
       "      <td>2.150000e+02</td>\n",
       "      <td>5.250000e+02</td>\n",
       "      <td>1.490000e+02</td>\n",
       "      <td>1.308000e+03</td>\n",
       "      <td>2.400000e+02</td>\n",
       "      <td>6.200000e+01</td>\n",
       "      <td>1.242000e+03</td>\n",
       "      <td>1.400000e+02</td>\n",
       "      <td>1.050000e+02</td>\n",
       "      <td>2.550000e+02</td>\n",
       "      <td>2.050000e+02</td>\n",
       "      <td>1.500000e+01</td>\n",
       "    </tr>\n",
       "    <tr>\n",
       "      <th>50%</th>\n",
       "      <td>275839.000000</td>\n",
       "      <td>31.000000</td>\n",
       "      <td>6.900000e+01</td>\n",
       "      <td>170.000000</td>\n",
       "      <td>2.900000e+02</td>\n",
       "      <td>5.950000e+02</td>\n",
       "      <td>1.930000e+02</td>\n",
       "      <td>1.550000e+03</td>\n",
       "      <td>2.940000e+02</td>\n",
       "      <td>7.100000e+01</td>\n",
       "      <td>1.380000e+03</td>\n",
       "      <td>1.950000e+02</td>\n",
       "      <td>1.450000e+02</td>\n",
       "      <td>3.450000e+02</td>\n",
       "      <td>2.750000e+02</td>\n",
       "      <td>2.700000e+01</td>\n",
       "    </tr>\n",
       "    <tr>\n",
       "      <th>75%</th>\n",
       "      <td>473188.000000</td>\n",
       "      <td>37.000000</td>\n",
       "      <td>7.200000e+01</td>\n",
       "      <td>192.000000</td>\n",
       "      <td>3.920000e+02</td>\n",
       "      <td>6.940000e+02</td>\n",
       "      <td>2.620000e+02</td>\n",
       "      <td>1.809000e+03</td>\n",
       "      <td>3.360000e+02</td>\n",
       "      <td>8.400000e+01</td>\n",
       "      <td>1.560000e+03</td>\n",
       "      <td>2.350000e+02</td>\n",
       "      <td>1.850000e+02</td>\n",
       "      <td>4.150000e+02</td>\n",
       "      <td>3.350000e+02</td>\n",
       "      <td>3.900000e+01</td>\n",
       "    </tr>\n",
       "    <tr>\n",
       "      <th>max</th>\n",
       "      <td>633083.000000</td>\n",
       "      <td>125.000000</td>\n",
       "      <td>8.388607e+06</td>\n",
       "      <td>20175.000000</td>\n",
       "      <td>8.388607e+06</td>\n",
       "      <td>8.388607e+06</td>\n",
       "      <td>8.388607e+06</td>\n",
       "      <td>8.388607e+06</td>\n",
       "      <td>8.388607e+06</td>\n",
       "      <td>8.388607e+06</td>\n",
       "      <td>8.388607e+06</td>\n",
       "      <td>8.388607e+06</td>\n",
       "      <td>8.388607e+06</td>\n",
       "      <td>8.388607e+06</td>\n",
       "      <td>8.388607e+06</td>\n",
       "      <td>2.147484e+09</td>\n",
       "    </tr>\n",
       "  </tbody>\n",
       "</table>\n",
       "</div>"
      ],
      "text/plain": [
       "          athlete_id            age        height         weight  \\\n",
       "count  423003.000000  331110.000000  1.598690e+05  229890.000000   \n",
       "mean   292748.166538      32.516750  1.206217e+02     170.896137   \n",
       "std    184969.660327       7.730671  2.097995e+04      58.379799   \n",
       "min        82.000000      13.000000  0.000000e+00       1.000000   \n",
       "25%    135091.500000      27.000000  6.600000e+01     145.000000   \n",
       "50%    275839.000000      31.000000  6.900000e+01     170.000000   \n",
       "75%    473188.000000      37.000000  7.200000e+01     192.000000   \n",
       "max    633083.000000     125.000000  8.388607e+06   20175.000000   \n",
       "\n",
       "               fran         helen         grace      filthy50      fgonebad  \\\n",
       "count  5.542600e+04  3.027900e+04  4.074500e+04  1.935900e+04  2.973800e+04   \n",
       "mean   9.886691e+02  1.207950e+03  5.766025e+02  2.127863e+03  1.472252e+03   \n",
       "std    7.200430e+04  6.824091e+04  4.891145e+04  6.055021e+04  9.762688e+04   \n",
       "min    1.000000e+00  1.000000e+00 -6.000000e+01  1.000000e+00  0.000000e+00   \n",
       "25%    2.150000e+02  5.250000e+02  1.490000e+02  1.308000e+03  2.400000e+02   \n",
       "50%    2.900000e+02  5.950000e+02  1.930000e+02  1.550000e+03  2.940000e+02   \n",
       "75%    3.920000e+02  6.940000e+02  2.620000e+02  1.809000e+03  3.360000e+02   \n",
       "max    8.388607e+06  8.388607e+06  8.388607e+06  8.388607e+06  8.388607e+06   \n",
       "\n",
       "             run400         run5k         candj        snatch      deadlift  \\\n",
       "count  2.224600e+04  3.609700e+04  1.044350e+05  9.728000e+04  1.153230e+05   \n",
       "mean   5.241279e+02  3.411464e+03  2.709107e+02  2.424957e+02  6.970503e+02   \n",
       "std    5.628804e+04  1.251980e+05  2.596882e+04  2.708942e+04  5.523235e+04   \n",
       "min    1.000000e+00  1.000000e+00 -4.500000e+01  0.000000e+00 -5.000000e+02   \n",
       "25%    6.200000e+01  1.242000e+03  1.400000e+02  1.050000e+02  2.550000e+02   \n",
       "50%    7.100000e+01  1.380000e+03  1.950000e+02  1.450000e+02  3.450000e+02   \n",
       "75%    8.400000e+01  1.560000e+03  2.350000e+02  1.850000e+02  4.150000e+02   \n",
       "max    8.388607e+06  8.388607e+06  8.388607e+06  8.388607e+06  8.388607e+06   \n",
       "\n",
       "             backsq       pullups  \n",
       "count  1.105170e+05  5.060800e+04  \n",
       "mean   5.852109e+02  4.269613e+04  \n",
       "std    5.052976e+04  9.546078e+06  \n",
       "min   -7.000000e+00 -6.000000e+00  \n",
       "25%    2.050000e+02  1.500000e+01  \n",
       "50%    2.750000e+02  2.700000e+01  \n",
       "75%    3.350000e+02  3.900000e+01  \n",
       "max    8.388607e+06  2.147484e+09  "
      ]
     },
     "execution_count": 49,
     "metadata": {},
     "output_type": "execute_result"
    }
   ],
   "source": [
    "df.describe()"
   ]
  },
  {
   "cell_type": "code",
   "execution_count": 50,
   "id": "e06081e1",
   "metadata": {},
   "outputs": [
    {
     "data": {
      "text/plain": [
       "athlete_id         3\n",
       "name           91896\n",
       "region        171744\n",
       "team          267846\n",
       "affiliate     181090\n",
       "gender         91896\n",
       "age            91896\n",
       "height        263137\n",
       "weight        193116\n",
       "fran          367580\n",
       "helen         392727\n",
       "grace         382261\n",
       "filthy50      403647\n",
       "fgonebad      393268\n",
       "run400        400760\n",
       "run5k         386909\n",
       "candj         318571\n",
       "snatch        325726\n",
       "deadlift      307683\n",
       "backsq        312489\n",
       "pullups       372398\n",
       "eat           329074\n",
       "train         317175\n",
       "background    324061\n",
       "experience    318070\n",
       "schedule      325131\n",
       "howlong       313800\n",
       "dtype: int64"
      ]
     },
     "execution_count": 50,
     "metadata": {},
     "output_type": "execute_result"
    }
   ],
   "source": [
    "df.isnull().sum()"
   ]
  },
  {
   "cell_type": "code",
   "execution_count": 51,
   "id": "61de8f53",
   "metadata": {},
   "outputs": [
    {
     "data": {
      "text/plain": [
       "(423006, 27)"
      ]
     },
     "execution_count": 51,
     "metadata": {},
     "output_type": "execute_result"
    }
   ],
   "source": [
    "df.shape"
   ]
  },
  {
   "cell_type": "code",
   "execution_count": 52,
   "id": "53b57ca5",
   "metadata": {},
   "outputs": [
    {
     "data": {
      "text/plain": [
       "athlete_id         3\n",
       "name           91896\n",
       "region        171744\n",
       "team          267846\n",
       "affiliate     181090\n",
       "gender         91896\n",
       "age            91896\n",
       "height        263137\n",
       "weight        193116\n",
       "fran          367580\n",
       "helen         392727\n",
       "grace         382261\n",
       "filthy50      403647\n",
       "fgonebad      393268\n",
       "run400        400760\n",
       "run5k         386909\n",
       "candj         318571\n",
       "snatch        325726\n",
       "deadlift      307683\n",
       "backsq        312489\n",
       "pullups       372398\n",
       "eat           329074\n",
       "train         317175\n",
       "background    324061\n",
       "experience    318070\n",
       "schedule      325131\n",
       "howlong       313800\n",
       "dtype: int64"
      ]
     },
     "execution_count": 52,
     "metadata": {},
     "output_type": "execute_result"
    }
   ],
   "source": [
    "df.isnull().sum()"
   ]
  },
  {
   "cell_type": "markdown",
   "id": "eb4295b6",
   "metadata": {},
   "source": [
    "# Generating Heatmap"
   ]
  },
  {
   "cell_type": "code",
   "execution_count": 53,
   "id": "06ec6756",
   "metadata": {},
   "outputs": [
    {
     "data": {
      "text/plain": [
       "<AxesSubplot:>"
      ]
     },
     "execution_count": 53,
     "metadata": {},
     "output_type": "execute_result"
    },
    {
     "data": {
      "image/png": "[encoded data removed]",
      "text/plain": [
       "<Figure size 432x288 with 2 Axes>"
      ]
     },
     "metadata": {
      "needs_background": "light"
     },
     "output_type": "display_data"
    }
   ],
   "source": [
    "import seaborn as sns\n",
    "sns.heatmap(df.isnull())"
   ]
  },
  {
   "cell_type": "markdown",
   "id": "c589eea9-ddd2-402d-a9d6-2f394cfc87ba",
   "metadata": {},
   "source": [
    "# Creating Box Plot"
   ]
  },
  {
   "cell_type": "code",
   "execution_count": 54,
   "id": "8d66a17f",
   "metadata": {},
   "outputs": [
    {
     "data": {
      "text/plain": [
       "<AxesSubplot:xlabel='age'>"
      ]
     },
     "execution_count": 54,
     "metadata": {},
     "output_type": "execute_result"
    },
    {
     "data": {
      "image/png": "[encoded data removed]",
      "text/plain": [
       "<Figure size 432x288 with 1 Axes>"
      ]
     },
     "metadata": {
      "needs_background": "light"
     },
     "output_type": "display_data"
    }
   ],
   "source": [
    "sns.boxplot(x=df['age'])"
   ]
  },
  {
   "cell_type": "markdown",
   "id": "2c518c2f-698f-408a-a055-88783009732b",
   "metadata": {},
   "source": [
    "# Creating Histogram"
   ]
  },
  {
   "cell_type": "code",
   "execution_count": 55,
   "id": "60ec924c",
   "metadata": {},
   "outputs": [],
   "source": [
    "import pandas as pd\n",
    "\n",
    "\n",
    "# Check for NaN values in the column\n",
    "if df['pullups'].isna().any():\n",
    "    # Replace NaN values with 0\n",
    "    df['pullups'] = df['pullups'].fillna(0)\n",
    "\n",
    "# Convert the column to an integer type\n",
    "df['pullups'] = df['pullups'].astype(int)\n"
   ]
  },
  {
   "cell_type": "code",
   "execution_count": 56,
   "id": "133cba64",
   "metadata": {},
   "outputs": [],
   "source": [
    "import pandas as pd\n",
    "\n",
    "\n",
    "# Check for NaN values in the column\n",
    "if df['backsq'].isna().any():\n",
    "    # Replace NaN values with 0\n",
    "    df['backsq'] = df['backsq'].fillna(0)\n",
    "\n",
    "# Convert the column to an integer type\n",
    "df['backsq'] = df['backsq'].astype(int)\n"
   ]
  },
  {
   "cell_type": "code",
   "execution_count": 57,
   "id": "6f52fe5d",
   "metadata": {},
   "outputs": [
    {
     "data": {
      "text/plain": [
       "(array([4.8100e+02, 1.0281e+04, 3.6021e+04, 4.8468e+04, 7.0575e+04,\n",
       "        6.0269e+04, 4.2606e+04, 2.2886e+04, 2.1265e+04, 1.1215e+04,\n",
       "        6.1840e+03, 8.4900e+02, 1.0000e+00, 1.0000e+00, 0.0000e+00,\n",
       "        0.0000e+00, 0.0000e+00, 0.0000e+00, 0.0000e+00, 0.0000e+00,\n",
       "        0.0000e+00, 0.0000e+00, 1.0000e+00, 0.0000e+00, 0.0000e+00,\n",
       "        0.0000e+00, 0.0000e+00, 1.0000e+00, 0.0000e+00, 6.0000e+00]),\n",
       " array([ 13.        ,  16.73333333,  20.46666667,  24.2       ,\n",
       "         27.93333333,  31.66666667,  35.4       ,  39.13333333,\n",
       "         42.86666667,  46.6       ,  50.33333333,  54.06666667,\n",
       "         57.8       ,  61.53333333,  65.26666667,  69.        ,\n",
       "         72.73333333,  76.46666667,  80.2       ,  83.93333333,\n",
       "         87.66666667,  91.4       ,  95.13333333,  98.86666667,\n",
       "        102.6       , 106.33333333, 110.06666667, 113.8       ,\n",
       "        117.53333333, 121.26666667, 125.        ]),\n",
       " <BarContainer object of 30 artists>)"
      ]
     },
     "execution_count": 57,
     "metadata": {},
     "output_type": "execute_result"
    },
    {
     "data": {
      "image/png": "[encoded data removed]",
      "text/plain": [
       "<Figure size 432x288 with 1 Axes>"
      ]
     },
     "metadata": {
      "needs_background": "light"
     },
     "output_type": "display_data"
    }
   ],
   "source": [
    "plt.hist(df['age'], bins=30)"
   ]
  },
  {
   "cell_type": "markdown",
   "id": "a2beaf2e-8f5b-4480-b9a3-6ff1288c6edc",
   "metadata": {},
   "source": [
    "## Metrics"
   ]
  },
  {
   "cell_type": "code",
   "execution_count": 68,
   "id": "1f62ae4a-8c23-4276-90f3-b878e1f94a1e",
   "metadata": {},
   "outputs": [],
   "source": [
    "df['timed_events'] = df['fran'] + df['helen'] + df['grace'] + df['filthy50'] + df['fgonebad'] + df['run400'] + df['run5k']\n",
    "\n",
    "df['lifting_events'] = df['candj'] + df['snatch'] + df['deadlift'] + df['backsq'] + df['pullups']"
   ]
  },
  {
   "cell_type": "code",
   "execution_count": 73,
   "id": "5bcf57c8-72d7-4e05-a543-d8d8da1f0f38",
   "metadata": {},
   "outputs": [
    {
     "data": {
      "text/plain": [
       "0            0.0\n",
       "1            0.0\n",
       "2            0.0\n",
       "3         1170.0\n",
       "4            0.0\n",
       "           ...  \n",
       "423001       0.0\n",
       "423002       0.0\n",
       "423003       0.0\n",
       "423004       0.0\n",
       "423005       0.0\n",
       "Name: lifting_events, Length: 423006, dtype: float64"
      ]
     },
     "execution_count": 73,
     "metadata": {},
     "output_type": "execute_result"
    }
   ],
   "source": [
    "df['timed_events'].fillna(0)\n",
    "\n",
    "df['lifting_events'].fillna(0)"
   ]
  },
  {
   "cell_type": "markdown",
   "id": "7fde95e1-39a7-4ff8-863d-4d4a5fc3ce4c",
   "metadata": {},
   "source": [
    "## Data Analysis"
   ]
  },
  {
   "cell_type": "markdown",
   "id": "787b6094-0f69-439e-beec-48cc2f343bed",
   "metadata": {},
   "source": [
    "## Identifying the patterns in athlete performance"
   ]
  },
  {
   "cell_type": "code",
   "execution_count": null,
   "id": "c4b42884-d1f3-4502-8ed3-4170730f39bf",
   "metadata": {},
   "outputs": [],
   "source": []
  },
  {
   "cell_type": "markdown",
   "id": "8bd41ddd-cfe0-45ff-8fb9-1423b5fa78d7",
   "metadata": {},
   "source": [
    "## Identifying the most successful countries and regions"
   ]
  },
  {
   "cell_type": "code",
   "execution_count": null,
   "id": "4cc5b676-0a95-4664-ba47-543c17b7658e",
   "metadata": {},
   "outputs": [],
   "source": []
  },
  {
   "cell_type": "markdown",
   "id": "6fd61305-c667-4d68-846c-3037e3f5e8e2",
   "metadata": {},
   "source": [
    "## Comparing male and female athlete performances"
   ]
  },
  {
   "cell_type": "code",
   "execution_count": null,
   "id": "8a8e97a7-95f9-4978-9749-bd4ddff18e29",
   "metadata": {},
   "outputs": [],
   "source": []
  },
  {
   "cell_type": "markdown",
   "id": "8c02d9d9-14e5-46b8-b3e7-f6e079521f89",
   "metadata": {},
   "source": [
    "## Predicting the likelihood of an athlete making it to the CrossFit Games"
   ]
  },
  {
   "cell_type": "code",
   "execution_count": null,
   "id": "cd1fadc9-bafd-4e1b-a50a-7ec43da7a8ba",
   "metadata": {},
   "outputs": [],
   "source": []
  },
  {
   "cell_type": "markdown",
   "id": "ad5d0c1f-09b3-4d1e-80d4-2a7821cd13fe",
   "metadata": {},
   "source": [
    "## Predicting the winner of individual events"
   ]
  },
  {
   "cell_type": "code",
   "execution_count": null,
   "id": "c932894d-f4a5-4b45-915b-ef35b46e6d73",
   "metadata": {},
   "outputs": [],
   "source": []
  },
  {
   "cell_type": "markdown",
   "id": "52fd27e7-db0f-4da0-974d-1665e97584fb",
   "metadata": {},
   "source": [
    "## Predicting the winner based on how long they’ve been trained and their diet information."
   ]
  },
  {
   "cell_type": "code",
   "execution_count": null,
   "id": "83e289e6-306c-4cbd-9334-53ac92312c31",
   "metadata": {},
   "outputs": [],
   "source": []
  }
 ],
 "metadata": {
  "kernelspec": {
   "display_name": "Python 3",
   "language": "python",
   "name": "python3"
  },
  "language_info": {
   "codemirror_mode": {
    "name": "ipython",
    "version": 3
   },
   "file_extension": ".py",
   "mimetype": "text/x-python",
   "name": "python",
   "nbconvert_exporter": "python",
   "pygments_lexer": "ipython3",
   "version": "3.8.8"
  }
 },
 "nbformat": 4,
 "nbformat_minor": 5
}
